{
 "cells": [
  {
   "cell_type": "markdown",
   "metadata": {},
   "source": [
    "# Linkedin API for Python"
   ]
  },
  {
   "cell_type": "markdown",
   "metadata": {},
   "source": [
    "This notebook aims to access data from LinkedIn by using an open source library by Tom Quirk.\n",
    "\n",
    "See Tom Quirk's open source library here: https://github.com/tomquirk/linkedin-api\n",
    "\n",
    "See more endpoints in reference documentation: https://linkedin-api.readthedocs.io/en/latest/api.html\n",
    "\n",
    "Requirement: Python version >= 3.6"
   ]
  },
  {
   "cell_type": "code",
   "execution_count": 1,
   "metadata": {},
   "outputs": [
    {
     "name": "stdout",
     "output_type": "stream",
     "text": [
      "Collecting git+https://github.com/tomquirk/linkedin-api.git\n",
      "  Cloning https://github.com/tomquirk/linkedin-api.git to c:\\users\\admin\\appdata\\local\\temp\\pip-req-build-j9lgj_8d\n",
      "Requirement already satisfied: requests in c:\\users\\admin\\anaconda3\\lib\\site-packages (from linkedin-api==2.0.0a5) (2.24.0)\n",
      "Requirement already satisfied: beautifulsoup4 in c:\\users\\admin\\anaconda3\\lib\\site-packages (from linkedin-api==2.0.0a5) (4.9.1)\n",
      "Requirement already satisfied: lxml in c:\\users\\admin\\anaconda3\\lib\\site-packages (from linkedin-api==2.0.0a5) (4.5.2)\n",
      "Requirement already satisfied: idna<3,>=2.5 in c:\\users\\admin\\anaconda3\\lib\\site-packages (from requests->linkedin-api==2.0.0a5) (2.10)\n",
      "Requirement already satisfied: urllib3!=1.25.0,!=1.25.1,<1.26,>=1.21.1 in c:\\users\\admin\\anaconda3\\lib\\site-packages (from requests->linkedin-api==2.0.0a5) (1.25.9)\n",
      "Requirement already satisfied: chardet<4,>=3.0.2 in c:\\users\\admin\\anaconda3\\lib\\site-packages (from requests->linkedin-api==2.0.0a5) (3.0.4)\n",
      "Requirement already satisfied: certifi>=2017.4.17 in c:\\users\\admin\\anaconda3\\lib\\site-packages (from requests->linkedin-api==2.0.0a5) (2020.6.20)\n",
      "Requirement already satisfied: soupsieve>1.2 in c:\\users\\admin\\anaconda3\\lib\\site-packages (from beautifulsoup4->linkedin-api==2.0.0a5) (2.0.1)\n",
      "Building wheels for collected packages: linkedin-api\n",
      "  Building wheel for linkedin-api (setup.py): started\n",
      "  Building wheel for linkedin-api (setup.py): finished with status 'done'\n",
      "  Created wheel for linkedin-api: filename=linkedin_api-2.0.0a5-py3-none-any.whl size=22240 sha256=6a5c0fb6132d699dd80a3b89102e357053a25370ea1c782ae5eb769834d50536\n",
      "  Stored in directory: C:\\Users\\Admin\\AppData\\Local\\Temp\\pip-ephem-wheel-cache-0vwgip8f\\wheels\\4a\\1e\\c9\\dde2839868d836bedb613857d1bb4620eb93046a3861cb08de\n",
      "Successfully built linkedin-api\n",
      "Installing collected packages: linkedin-api\n",
      "Successfully installed linkedin-api-2.0.0a5\n"
     ]
    },
    {
     "name": "stderr",
     "output_type": "stream",
     "text": [
      "  Running command git clone -q https://github.com/tomquirk/linkedin-api.git 'C:\\Users\\Admin\\AppData\\Local\\Temp\\pip-req-build-j9lgj_8d'\n"
     ]
    }
   ],
   "source": [
    "#install package\n",
    "!pip install git+https://github.com/tomquirk/linkedin-api.git"
   ]
  },
  {
   "cell_type": "code",
   "execution_count": null,
   "metadata": {},
   "outputs": [],
   "source": []
  },
  {
   "cell_type": "code",
   "execution_count": null,
   "metadata": {},
   "outputs": [],
   "source": []
  },
  {
   "cell_type": "markdown",
   "metadata": {},
   "source": [
    "## Get API access using Linkedin login credentials\n",
    "\n",
    "If you are using Two-step verification for sign In, you have to turn it off temporarily.\n",
    "\n",
    "Go to: Settings & Privacy -> Sign in & security -> Two-step verification -> Turn off"
   ]
  },
  {
   "cell_type": "code",
   "execution_count": 1,
   "metadata": {},
   "outputs": [],
   "source": [
    "from linkedin_api import Linkedin\n",
    "\n",
    "# Authenticate using the normal Linkedin login credentials\n",
    "# Be sure to disable 2-Factor Authentication (temporarily), and REMEMBER to enable it again after!\n",
    "api = Linkedin('my_linkedin_account@email.com', 'my_password')"
   ]
  },
  {
   "cell_type": "code",
   "execution_count": 2,
   "metadata": {},
   "outputs": [
    {
     "data": {
      "text/plain": [
       "{'email_address': 'jnyh@yahoo.com',\n",
       " 'websites': [{'url': 'https://github.com/JNYH', 'label': 'PORTFOLIO'},\n",
       "  {'url': 'https://towardsdatascience.com/@jnyh', 'label': 'BLOG'}],\n",
       " 'twitter': [],\n",
       " 'birthdate': None,\n",
       " 'ims': None,\n",
       " 'phone_numbers': []}"
      ]
     },
     "execution_count": 2,
     "metadata": {},
     "output_type": "execute_result"
    }
   ],
   "source": [
    "# GET a profile contact info, for example https://www.linkedin.com/in/jnyh/\n",
    "contact_info = api.get_profile_contact_info('jnyh')\n",
    "contact_info"
   ]
  },
  {
   "cell_type": "code",
   "execution_count": 4,
   "metadata": {},
   "outputs": [
    {
     "data": {
      "text/plain": [
       "'ACoAAC___BUBzW8S1c74w6QZEnpXPJxjSy13XvQ'"
      ]
     },
     "execution_count": 4,
     "metadata": {},
     "output_type": "execute_result"
    }
   ],
   "source": [
    "# GET a profile URN\n",
    "profile = api.get_profile('jnyh')\n",
    "profile['profile_id']"
   ]
  },
  {
   "cell_type": "code",
   "execution_count": null,
   "metadata": {},
   "outputs": [],
   "source": []
  },
  {
   "cell_type": "code",
   "execution_count": null,
   "metadata": {},
   "outputs": [],
   "source": []
  },
  {
   "cell_type": "markdown",
   "metadata": {},
   "source": [
    "## To expand the DataFrens network"
   ]
  },
  {
   "cell_type": "code",
   "execution_count": 1,
   "metadata": {},
   "outputs": [],
   "source": [
    "from linkedin_api import Linkedin\n",
    "\n",
    "# Authenticate using the normal Linkedin account login credentials\n",
    "api = Linkedin('my_linkedin_account@email.com', 'my_password')"
   ]
  },
  {
   "cell_type": "code",
   "execution_count": null,
   "metadata": {},
   "outputs": [],
   "source": [
    "frens_list = [\n",
    "    'dr-alvin',\n",
    "    'jnyh',\n",
    "    'teoyongsong',\n",
    "    'steven-chua-4125b6110',\n",
    "    'dwight-fonseka-279646102',\n",
    "    'mohamed-feroz-kuthubdeen-6b79aa15',\n",
    "    'patrickohwl',\n",
    "    'DUPLICATE_THE_ABOVE_LINE_AND_EDIT_PUBLIC_ID'\n",
    "]"
   ]
  },
  {
   "cell_type": "code",
   "execution_count": 5,
   "metadata": {},
   "outputs": [
    {
     "name": "stdout",
     "output_type": "stream",
     "text": [
      "Connection added: dr-alvin\n",
      "Connection added: jnyh\n"
     ]
    }
   ],
   "source": [
    "for fren in frens_list:\n",
    "    try:\n",
    "        profile = api.get_profile(fren)\n",
    "        profile_urn = profile['profile_id']\n",
    "        firstName = profile['firstName'].strip()\n",
    "        lastName = profile['lastName'].strip()\n",
    "        if api.add_connection(profile_public_id=fren, message='Connection from DataFrens added', profile_urn=profile_urn) == False:\n",
    "            print('Connection added:', fren, '|', firstName, lastName)    #for this API, True means error, False means successfully added\n",
    "        else:\n",
    "            print('FAILED:', fren)    #it seems ok to add myself or add my existing connection to my own network\n",
    "    except:\n",
    "        print('EXCEPTION:', fren)"
   ]
  },
  {
   "cell_type": "code",
   "execution_count": null,
   "metadata": {},
   "outputs": [],
   "source": []
  },
  {
   "cell_type": "code",
   "execution_count": null,
   "metadata": {},
   "outputs": [],
   "source": []
  },
  {
   "cell_type": "markdown",
   "metadata": {},
   "source": [
    "## When done, please turn ON Two-step verification, for better security!\n",
    "Go to: Settings & Privacy -> Sign in & security -> Two-step verification -> Turn ON\n",
    "\n",
    "This will help to safeguard your account, in the (very unlikely) event that the HTTPS data got hacked in transit!"
   ]
  },
  {
   "cell_type": "code",
   "execution_count": null,
   "metadata": {},
   "outputs": [],
   "source": []
  },
  {
   "cell_type": "code",
   "execution_count": null,
   "metadata": {},
   "outputs": [],
   "source": []
  },
  {
   "cell_type": "code",
   "execution_count": null,
   "metadata": {},
   "outputs": [],
   "source": []
  },
  {
   "cell_type": "code",
   "execution_count": null,
   "metadata": {},
   "outputs": [],
   "source": []
  }
 ],
 "metadata": {
  "kernelspec": {
   "display_name": "Python 3",
   "language": "python",
   "name": "python3"
  },
  "language_info": {
   "codemirror_mode": {
    "name": "ipython",
    "version": 3
   },
   "file_extension": ".py",
   "mimetype": "text/x-python",
   "name": "python",
   "nbconvert_exporter": "python",
   "pygments_lexer": "ipython3",
   "version": "3.8.3"
  }
 },
 "nbformat": 4,
 "nbformat_minor": 4
}
